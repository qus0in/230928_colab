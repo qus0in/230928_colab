{
  "nbformat": 4,
  "nbformat_minor": 0,
  "metadata": {
    "colab": {
      "provenance": [],
      "authorship_tag": "ABX9TyNxUgSfEw5Gm9qy7iWtbsb3",
      "include_colab_link": true
    },
    "kernelspec": {
      "name": "python3",
      "display_name": "Python 3"
    },
    "language_info": {
      "name": "python"
    }
  },
  "cells": [
    {
      "cell_type": "markdown",
      "metadata": {
        "id": "view-in-github",
        "colab_type": "text"
      },
      "source": [
        "<a href=\"https://colab.research.google.com/github/qus0in/TIL_colab/blob/main/230930_%EB%A9%80%ED%8B%B0%ED%94%84%EB%A1%9C%EC%84%B8%EC%8B%B1.ipynb\" target=\"_parent\"><img src=\"https://colab.research.google.com/assets/colab-badge.svg\" alt=\"Open In Colab\"/></a>"
      ]
    },
    {
      "cell_type": "code",
      "execution_count": 9,
      "metadata": {
        "colab": {
          "base_uri": "https://localhost:8080/"
        },
        "id": "xjnKdnKI3197",
        "outputId": "fd8f3a41-7d73-4a9e-c669-14239034af53"
      },
      "outputs": [
        {
          "output_type": "stream",
          "name": "stdout",
          "text": [
            "NORMAL : 63.21894598007202 seconds\n",
            "MULTI : 18.50774049758911 seconds\n"
          ]
        }
      ],
      "source": [
        "# !pip install finance-datareader -q\n",
        "from multiprocessing import Pool, Queue, cpu_count\n",
        "import FinanceDataReader as fdr\n",
        "import time\n",
        "\n",
        "# 테스트에 쓸 데이터 목록\n",
        "top50 = fdr.StockListing('ETF/KR').Symbol.head(50)\n",
        "\n",
        "# 일반 처리\n",
        "start_time = time.time()\n",
        "[fdr.DataReader(symbol) for symbol in top50]\n",
        "print(f'NORMAL : {(time.time() - start_time)} seconds') # 약 60초\n",
        "\n",
        "# 병렬 처리\n",
        "q = Queue() # 병렬 처리 시 multiprocessing.Queue 자료구조를 써야 저장이 보장됨\n",
        "# 리스트로 직접 변환이 안되므로, 향후 iteration 처리가 필요\n",
        "def get_data(symbol):\n",
        "    q.put(fdr.DataReader(symbol))\n",
        "start_time = time.time()\n",
        "with Pool(cpu_count() * 2) as p:\n",
        "    # 일반적으로 병렬 Pool의 갯수는 사용할 수 있는 CPU * 2 정도\n",
        "    p.map(get_data, top50)\n",
        "# 약 20초 (Colab, CPU 2개, Pool 4개)\n",
        "print(f'MULTI : {(time.time() - start_time)} seconds')"
      ]
    }
  ]
}
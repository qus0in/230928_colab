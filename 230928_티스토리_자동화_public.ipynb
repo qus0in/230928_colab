{
  "nbformat": 4,
  "nbformat_minor": 0,
  "metadata": {
    "colab": {
      "provenance": [],
      "authorship_tag": "ABX9TyNSorx42vePemeALA1RBJQk",
      "include_colab_link": true
    },
    "kernelspec": {
      "name": "python3",
      "display_name": "Python 3"
    },
    "language_info": {
      "name": "python"
    }
  },
  "cells": [
    {
      "cell_type": "markdown",
      "metadata": {
        "id": "view-in-github",
        "colab_type": "text"
      },
      "source": [
        "<a href=\"https://colab.research.google.com/github/qus0in/TIL/blob/main/230928_%ED%8B%B0%EC%8A%A4%ED%86%A0%EB%A6%AC_%EC%9E%90%EB%8F%99%ED%99%94_public.ipynb\" target=\"_parent\"><img src=\"https://colab.research.google.com/assets/colab-badge.svg\" alt=\"Open In Colab\"/></a>"
      ]
    },
    {
      "cell_type": "code",
      "source": [
        "# %env access_token=...\n",
        "# %env category=...\n",
        "# %env visibility=0\n",
        "# !echo $access_token $category $visibility\n",
        "\n",
        "import requests\n",
        "import os\n",
        "\n",
        "class Tistory:\n",
        "    '''\n",
        "    티스토리 블로그 작성 자동화\n",
        "    https://tistory.github.io/document-tistory-apis/\n",
        "    '''\n",
        "    def __init__(self, access_token):\n",
        "        self.access_token = access_token\n",
        "        self.get_blog_name()\n",
        "        self.get_category_list()\n",
        "\n",
        "    @property\n",
        "    def default_params(self):\n",
        "        return {\n",
        "            'access_token': self.access_token,\n",
        "            'output': 'json',\n",
        "        }\n",
        "\n",
        "    def get_blog_name(self):\n",
        "        '''\n",
        "        블로그 이름 받기\n",
        "        https://tistory.github.io/document-tistory-apis/apis/v1/blog/list.html\n",
        "        '''\n",
        "        url = 'https://www.tistory.com/apis/blog/info'\n",
        "        response = requests.get(url, self.default_params)\n",
        "        data = response.json().get('tistory').get('item').get('blogs')[0]\n",
        "        self.blog_name = data.get('name')\n",
        "        print(f'blogName : {self.blog_name}')\n",
        "\n",
        "    def get_category_list(self):\n",
        "        '''\n",
        "        카테고리 목록 받기\n",
        "        https://tistory.github.io/document-tistory-apis/apis/v1/category/list.html\n",
        "        '''\n",
        "        url = 'https://www.tistory.com/apis/category/list'\n",
        "        params = dict(\n",
        "            blogName=self.blog_name,\n",
        "            **self.default_params\n",
        "        )\n",
        "        response = requests.get(url, params)\n",
        "        data = response.json().get('tistory').get('item').get('categories')\n",
        "        self.categories = [dict(id=d['id'], name=d['name']) for d in data]\n",
        "        print(f'categories : {self.categories}')\n",
        "\n",
        "    def write_post(self, title, content, *tag):\n",
        "        '''\n",
        "        글 작성 : `content`의 기본 설정이 `html`임을 유의\n",
        "        https://tistory.github.io/document-tistory-apis/apis/v1/post/write.html\n",
        "        '''\n",
        "        url = 'https://www.tistory.com/apis/post/write'\n",
        "        params = dict(\n",
        "            blogName=self.blog_name,\n",
        "            category=os.getenv('category'),\n",
        "            title=title,\n",
        "            content=content,\n",
        "            visibility=os.getenv('visibility'),\n",
        "            tag=','.join(tag[::-1]),\n",
        "            **self.default_params\n",
        "        )\n",
        "        response = requests.post(url, params)\n",
        "        result = response.json().get('tistory').get('url')\n",
        "        print(result)\n",
        "\n",
        "t = Tistory(os.getenv('access_token'))\n",
        "t.write_post(\n",
        "    title='그대 곁의 그 사람 모르고 살겠죠',\n",
        "    content='''\n",
        "    <h1>누군가를 이렇게</h1>\n",
        "    <p>아프게 하는지</p>\n",
        "    '''\n",
        ")"
      ],
      "metadata": {
        "colab": {
          "base_uri": "https://localhost:8080/"
        },
        "id": "AsGvO6bXWUx4",
        "outputId": "d13966cc-cd6d-4d33-c569-67d4eeafd124"
      },
      "execution_count": null,
      "outputs": [
        {
          "output_type": "stream",
          "name": "stdout",
          "text": [
            "blogName : devconomy\n",
            "categories : [{'id': '1113734', 'name': 'SNIPPET'}, {'id': '1144906', 'name': 'ETF'}]\n",
            "https://devconomy.tistory.com/25\n"
          ]
        }
      ]
    },
    {
      "cell_type": "markdown",
      "source": [
        "```python\n",
        "# 테이블\n",
        "df.to_html(classes='table')\n",
        "```\n",
        "\n",
        "```python\n",
        "# 차트\n",
        "fig.to_html().encode('utf-8')\n",
        "```\n",
        "\n",
        "```html\n",
        "<iframe scrolling=\"no\" style=\"border:none;\" seamless=\"seamless\"\n",
        "    src=\"...\" height=\"525\" width=\"100%\">\n",
        "</iframe>\n",
        "```"
      ],
      "metadata": {
        "id": "rANRDheIecg2"
      }
    },
    {
      "cell_type": "code",
      "source": [
        "%%writefile sample.csv\n",
        "col1, col2, col3\n",
        "1, 2, 3\n",
        "4, 5, 6\n",
        "7, 8, 9"
      ],
      "metadata": {
        "colab": {
          "base_uri": "https://localhost:8080/"
        },
        "id": "XJtfzU2TiSnh",
        "outputId": "2555beab-eac3-4de5-a524-cfe88f33c65b"
      },
      "execution_count": null,
      "outputs": [
        {
          "output_type": "stream",
          "name": "stdout",
          "text": [
            "Writing sample.csv\n"
          ]
        }
      ]
    },
    {
      "cell_type": "code",
      "source": [
        "'''\n",
        "%env r2_account_id = ...\n",
        "%env r2_access_key_id = ...\n",
        "%env r2_secret_access_key = ...\n",
        "%env r2_bucket = ...\n",
        "%env r2_domain = ...\n",
        "!echo $r2_account_id $r2_access_key_id $r2_secret_access_key $r2_bucket $r2_domain\n",
        "\n",
        "%%writefile sample.csv\n",
        "col1, col2, col3\n",
        "1, 2, 3\n",
        "4, 5, 6\n",
        "7, 8, 9\n",
        "'''\n",
        "\n",
        "import io\n",
        "import os\n",
        "import hashlib\n",
        "import hmac\n",
        "import datetime\n",
        "import requests\n",
        "from requests.auth import AuthBase\n",
        "\n",
        "class AWSV4Auth(AuthBase):\n",
        "    @classmethod\n",
        "    def sign(cls, key, message):\n",
        "        return hmac.new(key, message.encode('utf-8'), hashlib.sha256).digest()\n",
        "\n",
        "    @classmethod\n",
        "    def get_signature_key(cls, secret_key, date_stamp, region, service):\n",
        "        k_date = cls.sign(('AWS4' + secret_key).encode('utf-8'), date_stamp)\n",
        "        k_region = cls.sign(k_date, region)\n",
        "        k_service = cls.sign(k_region, service)\n",
        "        k_signing = cls.sign(k_service, 'aws4_request')\n",
        "        return k_signing\n",
        "\n",
        "    def __init__(self, access_id, secret_key, region, service):\n",
        "        self.access_id = access_id\n",
        "        self.secret_key = secret_key\n",
        "        self.region = region\n",
        "        self.service = service\n",
        "\n",
        "    def __call__(self, r):\n",
        "        host = r.url.split('://')[1].split('/')[0]\n",
        "        payload_hash = hashlib.sha256(r.body or b'').hexdigest()\n",
        "        date_time = datetime.datetime.utcnow()\n",
        "        amz_date = date_time.strftime('%Y%m%dT%H%M%SZ')\n",
        "        date_stamp = date_time.strftime('%Y%m%d')\n",
        "\n",
        "        canonical_request = f\"{r.method}\\n{r.path_url}\\n\\nhost:{host}\\nx-amz-content-sha256:{payload_hash}\\nx-amz-date:{amz_date}\\n\\nhost;x-amz-content-sha256;x-amz-date\\n{payload_hash}\"\n",
        "        algorithm = 'AWS4-HMAC-SHA256'\n",
        "        credential_scope = f\"{date_stamp}/{self.region}/{self.service}/aws4_request\"\n",
        "\n",
        "        string_to_sign = f\"{algorithm}\\n{amz_date}\\n{credential_scope}\\n{hashlib.sha256(canonical_request.encode('utf-8')).hexdigest()}\"\n",
        "        signing_key = self.get_signature_key(self.secret_key, date_stamp, self.region, self.service)\n",
        "        signature = hmac.new(signing_key, (string_to_sign).encode('utf-8'), hashlib.sha256).hexdigest()\n",
        "\n",
        "        authorization_header = f\"{algorithm} Credential={self.access_id}/{credential_scope}, SignedHeaders=host;x-amz-content-sha256;x-amz-date, Signature={signature}\"\n",
        "\n",
        "        r.headers['x-amz-content-sha256'] = payload_hash\n",
        "        r.headers['x-amz-date'] = amz_date\n",
        "        r.headers['Authorization'] = authorization_header\n",
        "\n",
        "        return r\n",
        "\n",
        "class R2:\n",
        "    @classmethod\n",
        "    def put_file(cls, filename, obj):\n",
        "        aws_auth = AWSV4Auth(\n",
        "            access_id=os.getenv('r2_access_key_id'),\n",
        "            secret_key=os.getenv('r2_secret_access_key'),\n",
        "            region='auto', service='s3')\n",
        "        URL = 'https://{}.r2.cloudflarestorage.com/{}/{}'.format(\n",
        "            os.getenv('r2_account_id'), os.getenv('r2_bucket'), filename,\n",
        "        )\n",
        "        response = requests.put(URL, data=obj, auth=aws_auth)\n",
        "        return f'{os.getenv(\"r2_domain\")}/{filename}'\n",
        "\n",
        "filename = 'sample.csv'\n",
        "with open(filename, 'rb') as f:\n",
        "    print(R2.put_file(filename, f.read()))"
      ],
      "metadata": {
        "id": "mP95tv4H8fDX"
      },
      "execution_count": null,
      "outputs": []
    }
  ]
}
{
  "nbformat": 4,
  "nbformat_minor": 0,
  "metadata": {
    "colab": {
      "provenance": [],
      "authorship_tag": "ABX9TyPrIQEtAqmORP7+LFaBhIUj",
      "include_colab_link": true
    },
    "kernelspec": {
      "name": "python3",
      "display_name": "Python 3"
    },
    "language_info": {
      "name": "python"
    }
  },
  "cells": [
    {
      "cell_type": "markdown",
      "metadata": {
        "id": "view-in-github",
        "colab_type": "text"
      },
      "source": [
        "<a href=\"https://colab.research.google.com/github/qus0in/TIL_colab/blob/main/231013_AWS_API_Gateway_DynamoDB_Test.ipynb\" target=\"_parent\"><img src=\"https://colab.research.google.com/assets/colab-badge.svg\" alt=\"Open In Colab\"/></a>"
      ]
    },
    {
      "cell_type": "code",
      "execution_count": 11,
      "metadata": {
        "colab": {
          "base_uri": "https://localhost:8080/"
        },
        "id": "8wOx8Dq_V-VG",
        "outputId": "9e7c8666-cc28-464b-8024-4212b45a297e"
      },
      "outputs": [
        {
          "output_type": "execute_result",
          "data": {
            "text/plain": [
              "<Response [200]>"
            ]
          },
          "metadata": {},
          "execution_count": 11
        }
      ],
      "source": [
        "import requests\n",
        "import datetime\n",
        "\n",
        "URL = ' https://???.execute-api.ap-northeast-2.amazonaws.com/prod' #@param{\"type\":\"string\"}\n",
        "TableName = '???' #@param{\"type\":\"string\"}\n",
        "\n",
        "data = {\n",
        "  \"TableName\": TableName,\n",
        "  \"Item\": {\n",
        "    \"id\": { \"S\": datetime.datetime.utcnow().strftime('%Y%m%d_%H:%M:%S') },\n",
        "    \"message\": {\n",
        "      \"S\": \"Bye World!\"},\n",
        "    \"score\": { \"N\": \"50\" }\n",
        "  }\n",
        "}\n",
        "requests.post(URL, json=data)"
      ]
    }
  ]
}